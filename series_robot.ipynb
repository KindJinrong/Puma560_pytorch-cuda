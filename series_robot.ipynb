{
 "cells": [
  {
   "cell_type": "code",
   "execution_count": 18,
   "id": "14c8dc46-699b-409a-8110-cd35176fb321",
   "metadata": {},
   "outputs": [],
   "source": [
    "import numpy as np\n",
    "import torch\n",
    "from importlib import reload\n",
    "import math\n",
    "import sys\n",
    "sys.path.append(\"/home/wu/Ubuntu/series_kinematics/\")\n",
    "import help as hp\n",
    "reload(hp)\n",
    "pi = torch.pi\n",
    "device = torch.device(\"cuda\" if torch.cuda.is_available() else \"cpu\")"
   ]
  },
  {
   "cell_type": "code",
   "execution_count": null,
   "id": "c03d1122-e484-433f-bc8f-dc14fd80a274",
   "metadata": {},
   "outputs": [],
   "source": [
    "DH参数表\n",
    "\n",
    "| $\\alpha_{i-1}$ | $a_{i-1}$ | $d_i$ | $\\theta_i$ |\n",
    "| -------------- | --------- | ----- | ---------- |\n",
    "| 0              | 0         | 0     | $\\theta_1$ |\n",
    "| $-\\frac{\\pi}{2}$      | 0         | 0     | $\\theta_2$ |\n",
    "| 0              | $a_2$     | $d_3$ | $\\theta_3$ |\n",
    "| $-\\frac{\\pi}{2}$      | $a_3$     | $d_4$ | $\\theta_4$ |\n",
    "| $\\frac{\\pi}{2}$       | 0         | 0     | $\\theta_5$ |\n",
    "| $-\\frac{\\pi}{2}$      | 0         | 0     | $\\theta_6$ |"
   ]
  },
  {
   "cell_type": "code",
   "execution_count": 14,
   "id": "54b81df4-04e4-484f-b5ce-144557e7a79d",
   "metadata": {
    "tags": []
   },
   "outputs": [
    {
     "data": {
      "text/plain": [
       "tensor([ 0.7854, -1.5708,  1.0472, -1.5708, -0.7854,  1.5708], device='cuda:0')"
      ]
     },
     "execution_count": 14,
     "metadata": {},
     "output_type": "execute_result"
    }
   ],
   "source": [
    "#forward\n",
    "Thetas= torch.tensor([pi/4,-pi/2,+pi/3,-pi/2,-pi/4,pi/2],device=device)\n",
    "T_0 = torch.tensor([0,0,0,Thetas[0]],device =device)\n",
    "T_1 = torch.tensor([-pi/2,0,0,Thetas[1]],device =device)\n",
    "T_2 = torch.tensor([0,0.5,0.1,Thetas[2]],device =device)\n",
    "T_3 = torch.tensor([-pi/2,0.35,0.08,Thetas[3]],device =device)\n",
    "T_4 = torch.tensor([pi/2,0,0,Thetas[4]],device =device)\n",
    "T_5 = torch.tensor([-pi/2,0,0,Thetas[5]],device =device)\n",
    "T_ori = hp.Series_forward(T_0,T_1,T_2,T_3,T_4,T_5).forward()\n",
    "Thetas"
   ]
  },
  {
   "cell_type": "code",
   "execution_count": 15,
   "id": "a8b0f924-3c35-4dd3-b0de-1756ae6a5648",
   "metadata": {
    "tags": []
   },
   "outputs": [
    {
     "data": {
      "text/plain": [
       "tensor([[ 0.6124,  0.7500, -0.2500,  0.1719],\n",
       "        [ 0.6124, -0.2500,  0.7500,  0.3133],\n",
       "        [ 0.5000, -0.6124, -0.6124,  0.6057],\n",
       "        [ 0.0000,  0.0000,  0.0000,  1.0000]], device='cuda:0')"
      ]
     },
     "execution_count": 15,
     "metadata": {},
     "output_type": "execute_result"
    }
   ],
   "source": [
    "T_ori"
   ]
  },
  {
   "cell_type": "code",
   "execution_count": 16,
   "id": "a0f77bdf-c74e-496e-b549-5c1e79f4e8dc",
   "metadata": {},
   "outputs": [
    {
     "data": {
      "text/plain": [
       "tensor([[ 0.7071, -0.7071,  0.0000,  0.0000],\n",
       "        [ 0.7071,  0.7071,  0.0000,  0.0000],\n",
       "        [ 0.0000,  0.0000,  1.0000,  0.0000],\n",
       "        [ 0.0000,  0.0000,  0.0000,  1.0000]], device='cuda:0')"
      ]
     },
     "execution_count": 16,
     "metadata": {},
     "output_type": "execute_result"
    }
   ],
   "source": [
    "hp.Trans_matrix(T_0[0],T_0[1],T_0[2],T_0[3]).trans_matrix()"
   ]
  },
  {
   "cell_type": "code",
   "execution_count": 17,
   "id": "4063bcac-52c8-468a-a0ae-014d76181e35",
   "metadata": {
    "tags": []
   },
   "outputs": [
    {
     "data": {
      "text/plain": [
       "tensor([[ 0.7854, -1.5708,  1.0472,  1.5708,  0.7854, -1.5708],\n",
       "        [ 0.7854, -0.5400, -1.4966,  0.7862,  1.5300, -0.0409],\n",
       "        [-1.7890, -2.6016,  1.0472, -0.5777,  2.3022, -3.0180],\n",
       "        [-1.7890, -1.5708, -1.4966, -2.5693,  2.2929,  0.9369],\n",
       "        [ 0.7854, -1.5708,  1.0472, -1.5708, -0.7854,  1.5708],\n",
       "        [ 0.7854, -0.5400, -1.4966, -2.3554, -1.5300,  3.1007],\n",
       "        [-1.7890, -2.6016,  1.0472,  2.5639, -2.3022,  0.1236],\n",
       "        [-1.7890, -1.5708, -1.4966,  0.5723, -2.2929, -2.2047]],\n",
       "       device='cuda:0')"
      ]
     },
     "execution_count": 17,
     "metadata": {},
     "output_type": "execute_result"
    }
   ],
   "source": [
    "#bacward solver of 8 Thetas theta\n",
    "Solutions = hp.Solver(T_ori,T_0[:3],T_1[:3],T_2[:3],T_3[:3],T_4[:3],T_5[:3]).solver()\n",
    "Solutions"
   ]
  }
 ],
 "metadata": {
  "kernelspec": {
   "display_name": "Python 3 (ipykernel)",
   "language": "python",
   "name": "python3"
  },
  "language_info": {
   "codemirror_mode": {
    "name": "ipython",
    "version": 3
   },
   "file_extension": ".py",
   "mimetype": "text/x-python",
   "name": "python",
   "nbconvert_exporter": "python",
   "pygments_lexer": "ipython3",
   "version": "3.8.15"
  }
 },
 "nbformat": 4,
 "nbformat_minor": 5
}
